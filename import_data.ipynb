{
 "cells": [
  {
   "cell_type": "code",
   "id": "initial_id",
   "metadata": {
    "collapsed": true,
    "ExecuteTime": {
     "end_time": "2025-05-31T15:31:07.775838Z",
     "start_time": "2025-05-31T15:31:07.770283Z"
    }
   },
   "source": [
    "%matplotlib inline\n",
    "import matplotlib.pyplot as plt\n",
    "\n",
    "from pathlib import Path\n",
    "\n",
    "from promg.modules.db_management import DBManagement\n",
    "from tabulate import tabulate\n",
    "import yaml\n",
    "\n",
    "from promg import Configuration, DatabaseConnection, Performance, SemanticHeader, DatasetDescriptions, OcedPg, Query\n",
    "\n",
    "from IPython.core.interactiveshell import InteractiveShell\n",
    "\n",
    "InteractiveShell.ast_node_interactivity = \"all\"\n",
    "\n",
    "import pandas as pd\n",
    "\n",
    "pd.set_option('display.width', 2000)"
   ],
   "outputs": [],
   "execution_count": 22
  },
  {
   "metadata": {},
   "cell_type": "markdown",
   "source": "### Define the project that you want to do analysis on",
   "id": "53749a6e25cc2172"
  },
  {
   "metadata": {
    "ExecuteTime": {
     "end_time": "2025-05-31T15:31:07.850044Z",
     "start_time": "2025-05-31T15:31:07.846181Z"
    }
   },
   "cell_type": "code",
   "source": [
    "# case_study = 'bpic14'\n",
    "case_study = 'bpic14'\n",
    "use_sample = False"
   ],
   "id": "fc9da47c43b8414d",
   "outputs": [],
   "execution_count": 23
  },
  {
   "metadata": {
    "ExecuteTime": {
     "end_time": "2025-05-31T15:31:07.890809Z",
     "start_time": "2025-05-31T15:31:07.857533Z"
    }
   },
   "cell_type": "code",
   "source": [
    "# retrieve configuration for case_study\n",
    "conf_path = Path(case_study, 'config.yaml')\n",
    "config = yaml.safe_load(open(conf_path))\n",
    "\n",
    "print(f\"These are the credentials that I expect to be set for the database.\")\n",
    "print(f\"db_name: {config[\"db_name\"]}\")\n",
    "print(f\"uri: {config[\"uri\"]}\")\n",
    "print(f\"password: {config[\"password\"]}\")\n",
    "print(\"----------------------\")\n",
    "print(f\"If you have other credentials, please change them at: {conf_path}\")"
   ],
   "id": "aa3387e167d67135",
   "outputs": [
    {
     "name": "stdout",
     "output_type": "stream",
     "text": [
      "These are the credentials that I expect to be set for the database.\n",
      "db_name: neo4j\n",
      "uri: bolt://localhost:7687\n",
      "password: bpic2014\n",
      "----------------------\n",
      "If you have other credentials, please change them at: bpic14\\config.yaml\n"
     ]
    }
   ],
   "execution_count": 24
  },
  {
   "metadata": {},
   "cell_type": "markdown",
   "source": "### Prepare so we can use PromG to load the data and execute queries",
   "id": "e8120ab6c716ab32"
  },
  {
   "metadata": {
    "ExecuteTime": {
     "end_time": "2025-05-31T15:31:07.928929Z",
     "start_time": "2025-05-31T15:31:07.891821Z"
    }
   },
   "cell_type": "code",
   "source": [
    "config = Configuration.init_conf_with_config_file(conf_path)\n",
    "db_connection = DatabaseConnection.set_up_connection(config=config)\n",
    "perf = Performance.set_up_performance(config=config)\n",
    "dataset_descriptions = DatasetDescriptions(config=config)"
   ],
   "id": "6a43b12f667191c7",
   "outputs": [],
   "execution_count": 25
  },
  {
   "metadata": {
    "ExecuteTime": {
     "end_time": "2025-05-31T15:31:07.938810Z",
     "start_time": "2025-05-31T15:31:07.930937Z"
    }
   },
   "cell_type": "code",
   "source": [
    "def reset_pbar(pbar=perf.pbar, total=None):\n",
    "    # clear db\n",
    "    pbar.reset()\n",
    "    # TODO update dragons in PromG, #update method to set total for pbar\n",
    "    pbar.total = total\n",
    "    pbar.set_postfix_str()"
   ],
   "id": "401c224950fa68e",
   "outputs": [],
   "execution_count": 26
  },
  {
   "metadata": {},
   "cell_type": "markdown",
   "source": "#### Prepare the DB",
   "id": "6bb7df7ad87d2580"
  },
  {
   "metadata": {
    "ExecuteTime": {
     "end_time": "2025-05-31T15:31:07.971536Z",
     "start_time": "2025-05-31T15:31:07.941816Z"
    }
   },
   "cell_type": "code",
   "source": [
    "# read the semantic header --> this details how the data should be structured\n",
    "semantic_header = SemanticHeader.create_semantic_header(config=config)"
   ],
   "id": "62c8f00ce4cfd71a",
   "outputs": [],
   "execution_count": 27
  },
  {
   "metadata": {
    "ExecuteTime": {
     "end_time": "2025-05-31T15:31:13.429768Z",
     "start_time": "2025-05-31T15:31:07.972546Z"
    }
   },
   "cell_type": "code",
   "source": [
    "# Clear the DB (if use_sample = False, this should not take long on a loaded database)\n",
    "db_manager = DBManagement(db_connection=db_connection, semantic_header=semantic_header)\n",
    "db_manager.clear_db(\n",
    "    replace=True);  # in the community version of neo4j, replace is not allowed. In that case, set replace=False"
   ],
   "id": "60b3495572a9748b",
   "outputs": [
    {
     "name": "stdout",
     "output_type": "stream",
     "text": [
      "42it [56:35, 765.20s/it, clear_db: took 2945.69 seconds]                                                    "
     ]
    }
   ],
   "execution_count": 28
  },
  {
   "metadata": {
    "ExecuteTime": {
     "end_time": "2025-05-31T15:31:14.172826Z",
     "start_time": "2025-05-31T15:31:13.430786Z"
    }
   },
   "cell_type": "code",
   "source": [
    "# Set constraints in DB\n",
    "db_manager.set_constraints();"
   ],
   "id": "ba4c8c205f2085dd",
   "outputs": [
    {
     "name": "stdout",
     "output_type": "stream",
     "text": [
      "43it [56:36, 558.44s/it, set_constraints: took 0.76 seconds]"
     ]
    }
   ],
   "execution_count": 29
  },
  {
   "metadata": {
    "ExecuteTime": {
     "end_time": "2025-05-31T15:31:14.228374Z",
     "start_time": "2025-05-31T15:31:14.173832Z"
    }
   },
   "cell_type": "code",
   "source": "db_manager.get_constraints(ignore_defaults=True)",
   "id": "ad8f6f7f8636ca0",
   "outputs": [
    {
     "data": {
      "text/plain": [
       "['activity_index',\n",
       " 'record_id_range',\n",
       " 'record_type_range',\n",
       " 'unique_change_ids',\n",
       " 'unique_configurationitem_ids',\n",
       " 'unique_entity_ids',\n",
       " 'unique_event_ids',\n",
       " 'unique_eventtype_ids',\n",
       " 'unique_incident_ids',\n",
       " 'unique_interaction_ids',\n",
       " 'unique_knowledgedocument_ids',\n",
       " 'unique_objecttype_ids',\n",
       " 'unique_resource_ids',\n",
       " 'unique_servicecomponent_ids']"
      ]
     },
     "execution_count": 30,
     "metadata": {},
     "output_type": "execute_result"
    }
   ],
   "execution_count": 30
  },
  {
   "metadata": {},
   "cell_type": "markdown",
   "source": "# For BPIC17 (as it is a large dataset), we test with sample whether data can be imported",
   "id": "38d1f9e2bc502dc3"
  },
  {
   "metadata": {
    "ExecuteTime": {
     "end_time": "2025-05-31T15:31:14.232831Z",
     "start_time": "2025-05-31T15:31:14.228374Z"
    }
   },
   "cell_type": "code",
   "source": [
    "if case_study == \"bpic17\":\n",
    "    use_sample = True\n",
    "    oced_pg = OcedPg(database_connection=db_connection,\n",
    "                     dataset_descriptions=dataset_descriptions,\n",
    "                     semantic_header=semantic_header,\n",
    "                     use_sample=use_sample)\n",
    "    \n",
    "    # first, we load all records\n",
    "    # (if use_sample = False, this should take less than 2 minutes)\n",
    "    oced_pg.load()"
   ],
   "id": "28db5a21757dc87f",
   "outputs": [],
   "execution_count": 31
  },
  {
   "metadata": {
    "ExecuteTime": {
     "end_time": "2025-05-31T15:31:14.237404Z",
     "start_time": "2025-05-31T15:31:14.233841Z"
    }
   },
   "cell_type": "code",
   "source": [
    "# Check whether import and transformation was successful by checking whether all nodes were imported\n",
    "check_nodes = '''\n",
    "    MATCH (n) \n",
    "    RETURN labels(n) as label, count(n) as count\n",
    "'''\n",
    "\n",
    "check_relations = '''\n",
    "    MATCH () - [r] -> ()\n",
    "    RETURN type(r) as label, count(r) as count\n",
    "'''\n",
    "\n",
    "if case_study == \"bpic17\":\n",
    "    node_count = db_connection.exec_query(check_nodes)\n",
    "    rel_count = db_connection.exec_query(check_relations)\n",
    "    print(\n",
    "        f\"In total, there are {sum([node['count'] for node in node_count])} nodes and {sum([rel['count'] for rel in rel_count])} relations.\")\n"
   ],
   "id": "944f64fdc1077265",
   "outputs": [],
   "execution_count": 32
  },
  {
   "metadata": {
    "ExecuteTime": {
     "end_time": "2025-05-31T15:31:14.242465Z",
     "start_time": "2025-05-31T15:31:14.239412Z"
    }
   },
   "cell_type": "code",
   "source": [
    "# Clear the DB (if use_sample = False, this should not take long on a loaded database)\n",
    "if case_study == \"bpic17\":\n",
    "    db_manager = DBManagement(db_connection=db_connection, semantic_header=semantic_header)\n",
    "    db_manager.clear_db(\n",
    "        replace=True);  # in the community version of neo4j, replace is not allowed. In that case, set replace=False"
   ],
   "id": "8bccaf955397a2c5",
   "outputs": [],
   "execution_count": 33
  },
  {
   "metadata": {
    "ExecuteTime": {
     "end_time": "2025-05-31T15:31:14.247237Z",
     "start_time": "2025-05-31T15:31:14.243476Z"
    }
   },
   "cell_type": "code",
   "source": [
    "if case_study == \"bpic17\":\n",
    "    # Set constraints in DB\n",
    "    db_manager.set_constraints();"
   ],
   "id": "9991438c929a0eaf",
   "outputs": [],
   "execution_count": 34
  },
  {
   "metadata": {},
   "cell_type": "markdown",
   "source": "### Load the data",
   "id": "fc848247a6c26bb8"
  },
  {
   "metadata": {
    "ExecuteTime": {
     "end_time": "2025-05-31T15:31:14.254380Z",
     "start_time": "2025-05-31T15:31:14.248245Z"
    }
   },
   "cell_type": "code",
   "source": [
    "use_sample = False\n",
    "oced_pg = OcedPg(database_connection=db_connection,\n",
    "                 dataset_descriptions=dataset_descriptions,\n",
    "                 semantic_header=semantic_header,\n",
    "                 use_sample=use_sample)\n"
   ],
   "id": "a1acd711cd96c81e",
   "outputs": [],
   "execution_count": 35
  },
  {
   "metadata": {
    "ExecuteTime": {
     "end_time": "2025-05-31T15:33:02.314408Z",
     "start_time": "2025-05-31T15:31:14.255399Z"
    }
   },
   "cell_type": "code",
   "source": [
    "# first, we load all records\n",
    "# (if use_sample = False, this should take less than 2 minutes)\n",
    "reset_pbar(total=12 if case_study==\"bpic14\" else 2)\n",
    "oced_pg.load()"
   ],
   "id": "b8e06ac67a409334",
   "outputs": [
    {
     "name": "stdout",
     "output_type": "stream",
     "text": [
      " 92%|█████████▏| 11/12 [01:48<00:10, 10.17s/it, _filter_nodes for BPIC14Interaction: took 0.0 seconds]                      Failed to delete C:\\Users\\s156229\\.Neo4jDesktop\\relate-data\\dbmss\\dbms-c8928c7a-a8f6-468f-b6e5-cfd4d6bb5d76\\import\\BPIC14Incident__ServiceComponentCByRecord_RelatedInteractionRecord.csv. Reason: [WinError 32] The process cannot access the file because it is being used by another process: 'C:\\\\Users\\\\s156229\\\\.Neo4jDesktop\\\\relate-data\\\\dbmss\\\\dbms-c8928c7a-a8f6-468f-b6e5-cfd4d6bb5d76\\\\import\\\\BPIC14Incident__ServiceComponentCByRecord_RelatedInteractionRecord.csv'\n",
      "Failed to delete C:\\Users\\s156229\\.Neo4jDesktop\\relate-data\\dbmss\\dbms-c8928c7a-a8f6-468f-b6e5-cfd4d6bb5d76\\import\\BPIC14Interaction.csv. Reason: [WinError 32] The process cannot access the file because it is being used by another process: 'C:\\\\Users\\\\s156229\\\\.Neo4jDesktop\\\\relate-data\\\\dbmss\\\\dbms-c8928c7a-a8f6-468f-b6e5-cfd4d6bb5d76\\\\import\\\\BPIC14Interaction.csv'\n",
      "Failed to delete C:\\Users\\s156229\\.Neo4jDesktop\\relate-data\\dbmss\\dbms-c8928c7a-a8f6-468f-b6e5-cfd4d6bb5d76\\import\\Detail_Change__ChangeRecordPlannedEndRecord_ChangeActualStartRecord_ChangeActualEndRecord.csv. Reason: [WinError 32] The process cannot access the file because it is being used by another process: 'C:\\\\Users\\\\s156229\\\\.Neo4jDesktop\\\\relate-data\\\\dbmss\\\\dbms-c8928c7a-a8f6-468f-b6e5-cfd4d6bb5d76\\\\import\\\\Detail_Change__ChangeRecordPlannedEndRecord_ChangeActualStartRecord_ChangeActualEndRecord.csv'\n",
      "Failed to delete C:\\Users\\s156229\\.Neo4jDesktop\\relate-data\\dbmss\\dbms-c8928c7a-a8f6-468f-b6e5-cfd4d6bb5d76\\import\\Detail_Incident_Activity__InteractionRecord.csv. Reason: [WinError 32] The process cannot access the file because it is being used by another process: 'C:\\\\Users\\\\s156229\\\\.Neo4jDesktop\\\\relate-data\\\\dbmss\\\\dbms-c8928c7a-a8f6-468f-b6e5-cfd4d6bb5d76\\\\import\\\\Detail_Incident_Activity__InteractionRecord.csv'\n"
     ]
    }
   ],
   "execution_count": 36
  },
  {
   "metadata": {
    "ExecuteTime": {
     "end_time": "2025-05-31T15:37:11.020779Z",
     "start_time": "2025-05-31T15:33:02.316412Z"
    }
   },
   "cell_type": "code",
   "source": [
    "# (if use_sample = False, this should take less than 8 minutes)\n",
    "reset_pbar(total=133 if case_study==\"bpic14\" else 41)\n",
    "oced_pg.transform()  #transform the data using the semantic header"
   ],
   "id": "6ae81f6bf9e84e4c",
   "outputs": [
    {
     "name": "stdout",
     "output_type": "stream",
     "text": [
      "140it [04:08,  2.92it/s, _create_relations_using_nodes for (ot_from ) - [:RELATED_INTERACTION] -> (ot_to ): took 0.01 seconds]                                                                                   "
     ]
    }
   ],
   "execution_count": 37
  },
  {
   "metadata": {
    "ExecuteTime": {
     "end_time": "2025-05-31T15:37:14.125231Z",
     "start_time": "2025-05-31T15:37:11.021795Z"
    }
   },
   "cell_type": "code",
   "source": [
    "# PromG does not have this capability yet, so we have to do it manually\n",
    "# we have to lift the E2O relationships from the instance layer to the type layer\n",
    "\n",
    "# (if use_sample = False, this should take less than 3 minutes)\n",
    "lift_e2o = '''\n",
    "    MATCH (et:EventType)\n",
    "    MATCH (ot:ObjectType)\n",
    "    MATCH (et) <- [:INSTANCE_OF] - (:Event) - [e2o] -> () - [:INSTANCE_OF] -> (ot)\n",
    "    WITH distinct et, ot, type(e2o) as e2o_type\n",
    "    CALL apoc.merge.relationship(et, e2o_type,{},{},ot,{})\n",
    "    YIELD rel as e2o_rel\n",
    "    RETURN DISTINCT et.eventType as eType, e2o_type, collect(distinct ot.objectType) as oTypes\n",
    "'''\n",
    "\n",
    "results = db_connection.exec_query(lift_e2o)\n",
    "print(tabulate(results))"
   ],
   "id": "9d24580c7f450a44",
   "outputs": [
    {
     "name": "stdout",
     "output_type": "stream",
     "text": [
      "----------------------------  -------------  ---------------\n",
      "Open Change Record            OPENS_RECORD   ['Change']\n",
      "Close Change Record           CLOSES_RECORD  ['Change']\n",
      "Planned Start                 CORR           ['Change']\n",
      "Requested End                 CORR           ['Change']\n",
      "Planned End                   CORR           ['Change']\n",
      "Start Change Implementation   START          ['Change']\n",
      "End Change Implementation     END            ['Change']\n",
      "Open Incident                 OPENS          ['Incident']\n",
      "Close Incident                CLOSES         ['Incident']\n",
      "Reopen Incident               REOPENS        ['Incident']\n",
      "Open Interaction              OPENS          ['Interaction']\n",
      "Open Interaction              CLOSES         ['Interaction']\n",
      "Close Interaction             CLOSES         ['Interaction']\n",
      "Assignment                    ACTS_ON        ['Interaction']\n",
      "Reassignment                  ACTS_ON        ['Interaction']\n",
      "Operator Update               ACTS_ON        ['Interaction']\n",
      "Description Update            ACTS_ON        ['Interaction']\n",
      "Status Change                 ACTS_ON        ['Interaction']\n",
      "Communication with customer   ACTS_ON        ['Interaction']\n",
      "Closed                        ACTS_ON        ['Interaction']\n",
      "Caused By CI                  ACTS_ON        ['Interaction']\n",
      "Open                          ACTS_ON        ['Interaction']\n",
      "Vendor Reference Change       ACTS_ON        ['Interaction']\n",
      "External Vendor Assignment    ACTS_ON        ['Interaction']\n",
      "Reopen                        ACTS_ON        ['Interaction']\n",
      "Update                        ACTS_ON        ['Interaction']\n",
      "Update from customer          ACTS_ON        ['Interaction']\n",
      "Resolved                      ACTS_ON        ['Interaction']\n",
      "Impact Change                 ACTS_ON        ['Interaction']\n",
      "Urgency Change                ACTS_ON        ['Interaction']\n",
      "Quality Indicator Fixed       ACTS_ON        ['Interaction']\n",
      "Quality Indicator Set         ACTS_ON        ['Interaction']\n",
      "Pending vendor                ACTS_ON        ['Interaction']\n",
      "Vendor Reference              ACTS_ON        ['Interaction']\n",
      "Analysis/Research             ACTS_ON        ['Interaction']\n",
      "Service Change                ACTS_ON        ['Interaction']\n",
      "Affected CI Change            ACTS_ON        ['Interaction']\n",
      "Notify By Change              ACTS_ON        ['Interaction']\n",
      "Quality Indicator             ACTS_ON        ['Interaction']\n",
      "Communication with vendor     ACTS_ON        ['Interaction']\n",
      "External update               ACTS_ON        ['Interaction']\n",
      "Mail to Customer              ACTS_ON        ['Interaction']\n",
      "Problem Workaround            ACTS_ON        ['Interaction']\n",
      "Contact Change                ACTS_ON        ['Interaction']\n",
      "Incident reproduction         ACTS_ON        ['Interaction']\n",
      "OO Response                   ACTS_ON        ['Interaction']\n",
      "External Vendor Reassignment  ACTS_ON        ['Interaction']\n",
      "Callback Request              ACTS_ON        ['Interaction']\n",
      "Referred                      ACTS_ON        ['Interaction']\n",
      "Problem Closure               ACTS_ON        ['Interaction']\n",
      "alert stage 1                 ACTS_ON        ['Interaction']\n",
      "Dial-in                       ACTS_ON        ['Interaction']\n",
      "Assignment                    EXECUTED_BY    ['Resource']\n",
      "Update                        EXECUTED_BY    ['Resource']\n",
      "Open                          EXECUTED_BY    ['Resource']\n",
      "Reassignment                  EXECUTED_BY    ['Resource']\n",
      "Operator Update               EXECUTED_BY    ['Resource']\n",
      "Status Change                 EXECUTED_BY    ['Resource']\n",
      "Communication with customer   EXECUTED_BY    ['Resource']\n",
      "Closed                        EXECUTED_BY    ['Resource']\n",
      "Caused By CI                  EXECUTED_BY    ['Resource']\n",
      "Reopen                        EXECUTED_BY    ['Resource']\n",
      "Description Update            EXECUTED_BY    ['Resource']\n",
      "External Vendor Assignment    EXECUTED_BY    ['Resource']\n",
      "Pending vendor                EXECUTED_BY    ['Resource']\n",
      "Update from customer          EXECUTED_BY    ['Resource']\n",
      "Communication with vendor     EXECUTED_BY    ['Resource']\n",
      "Impact Change                 EXECUTED_BY    ['Resource']\n",
      "Urgency Change                EXECUTED_BY    ['Resource']\n",
      "Vendor Reference              EXECUTED_BY    ['Resource']\n",
      "Resolved                      EXECUTED_BY    ['Resource']\n",
      "Quality Indicator Fixed       EXECUTED_BY    ['Resource']\n",
      "External Vendor Reassignment  EXECUTED_BY    ['Resource']\n",
      "Quality Indicator Set         EXECUTED_BY    ['Resource']\n",
      "Mail to Customer              EXECUTED_BY    ['Resource']\n",
      "Problem Workaround            EXECUTED_BY    ['Resource']\n",
      "Service Change                EXECUTED_BY    ['Resource']\n",
      "Affected CI Change            EXECUTED_BY    ['Resource']\n",
      "Notify By Change              EXECUTED_BY    ['Resource']\n",
      "Problem Closure               EXECUTED_BY    ['Resource']\n",
      "Analysis/Research             EXECUTED_BY    ['Resource']\n",
      "Contact Change                EXECUTED_BY    ['Resource']\n",
      "Quality Indicator             EXECUTED_BY    ['Resource']\n",
      "alert stage 1                 EXECUTED_BY    ['Resource']\n",
      "Vendor Reference Change       EXECUTED_BY    ['Resource']\n",
      "Callback Request              EXECUTED_BY    ['Resource']\n",
      "Referred                      EXECUTED_BY    ['Resource']\n",
      "Incident reproduction         EXECUTED_BY    ['Resource']\n",
      "OO Response                   EXECUTED_BY    ['Resource']\n",
      "External update               EXECUTED_BY    ['Resource']\n",
      "Dial-in                       EXECUTED_BY    ['Resource']\n",
      "----------------------------  -------------  ---------------\n"
     ]
    }
   ],
   "execution_count": 38
  },
  {
   "metadata": {
    "ExecuteTime": {
     "end_time": "2025-05-31T15:37:16.740576Z",
     "start_time": "2025-05-31T15:37:14.126250Z"
    }
   },
   "cell_type": "code",
   "source": [
    "# Check whether import and transformation was successful by checking whether all nodes were imported\n",
    "node_count = db_connection.exec_query(check_nodes)\n",
    "rel_count = db_connection.exec_query(check_relations)\n",
    "print(\n",
    "    f\"In total, there are {sum([node['count'] for node in node_count])} nodes and {sum([rel['count'] for rel in rel_count])} relations.\")\n",
    "\n",
    "# we report on nodes and relationships excluding the record layer as these are not part of our schema\n",
    "print(\n",
    "    f\"In total (excluding record layer), there are {sum([node['count'] for node in node_count if not node['label'] in [['Record'], ['RecordType'], ['Log']]])} nodes \"\n",
    "    f\"and {sum([rel['count'] for rel in rel_count if not rel['label'] in ['IS_OF_TYPE', 'CONTAINS', 'EXTRACTED_FROM']])} relations.\")\n"
   ],
   "id": "fef919c8efa2a237",
   "outputs": [
    {
     "name": "stdout",
     "output_type": "stream",
     "text": [
      "In total, there are 1981224 nodes and 15647590 relations.\n",
      "In total (excluding record layer), there are 1290575 nodes and 3441519 relations.\n"
     ]
    }
   ],
   "execution_count": 39
  },
  {
   "metadata": {
    "ExecuteTime": {
     "end_time": "2025-05-31T15:37:16.747320Z",
     "start_time": "2025-05-31T15:37:16.741580Z"
    }
   },
   "cell_type": "code",
   "source": [
    "# Print node statistics\n",
    "print(\"Nodes\")\n",
    "print(tabulate(node_count))"
   ],
   "id": "cec797532cd4f49a",
   "outputs": [
    {
     "name": "stdout",
     "output_type": "stream",
     "text": [
      "Nodes\n",
      "---------------------  -------\n",
      "['RecordType']              23\n",
      "['Log']                      4\n",
      "['Record']              690622\n",
      "['Event']              1061604\n",
      "['EventType']               51\n",
      "['ObjectType']               7\n",
      "['ConfigurationItem']    14143\n",
      "['ServiceComponent']       340\n",
      "['Change']               18026\n",
      "['Incident']             46616\n",
      "['Interaction']         147173\n",
      "['KnowledgeDocument']     2373\n",
      "['Resource']               242\n",
      "---------------------  -------\n"
     ]
    }
   ],
   "execution_count": 40
  },
  {
   "metadata": {
    "ExecuteTime": {
     "end_time": "2025-05-31T15:37:16.753589Z",
     "start_time": "2025-05-31T15:37:16.749327Z"
    }
   },
   "cell_type": "code",
   "source": [
    "# Print relationship statistics\n",
    "print(\"Relationships\")\n",
    "print(tabulate(rel_count))"
   ],
   "id": "9aa3aee88f2e20de",
   "outputs": [
    {
     "name": "stdout",
     "output_type": "stream",
     "text": [
      "Relationships\n",
      "-------------------------  -------\n",
      "CONTAINS                    690622\n",
      "IS_OF_TYPE                 3880534\n",
      "EXTRACTED_FROM             7634915\n",
      "OPENS_RECORD                 30276\n",
      "INSTANCE_OF                1290517\n",
      "CLOSES_RECORD                30276\n",
      "START                        27018\n",
      "END                          27015\n",
      "CORR                         90785\n",
      "RELATED_SERVICE_COMPONENT    14333\n",
      "CHANGED_BY                   30125\n",
      "OPENS                       193612\n",
      "REOPENS                       2285\n",
      "CLOSES                      340617\n",
      "RELATED_CHANGE                 537\n",
      "CAUSED_BY                        1\n",
      "AFFECTED_CI                 193612\n",
      "USED_KM                     193899\n",
      "RELATED_INTERACTION          43059\n",
      "ACTS_ON                     466776\n",
      "EXECUTED_BY                 466776\n",
      "-------------------------  -------\n"
     ]
    }
   ],
   "execution_count": 41
  }
 ],
 "metadata": {
  "kernelspec": {
   "display_name": "Python 3",
   "language": "python",
   "name": "python3"
  },
  "language_info": {
   "codemirror_mode": {
    "name": "ipython",
    "version": 2
   },
   "file_extension": ".py",
   "mimetype": "text/x-python",
   "name": "python",
   "nbconvert_exporter": "python",
   "pygments_lexer": "ipython2",
   "version": "2.7.6"
  }
 },
 "nbformat": 4,
 "nbformat_minor": 5
}
