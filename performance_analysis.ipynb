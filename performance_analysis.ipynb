{
 "cells": [
  {
   "cell_type": "code",
   "id": "initial_id",
   "metadata": {
    "collapsed": true,
    "ExecuteTime": {
     "end_time": "2025-05-31T16:00:57.339937Z",
     "start_time": "2025-05-31T16:00:57.326151Z"
    }
   },
   "source": [
    "from parso.python.tree import Flow\n",
    "%matplotlib inline\n",
    "import matplotlib.pyplot as plt\n",
    "\n",
    "from pathlib import Path\n",
    "\n",
    "from promg.modules.db_management import DBManagement\n",
    "from tabulate import tabulate\n",
    "import yaml\n",
    "\n",
    "from promg import Configuration, DatabaseConnection, Performance, SemanticHeader, DatasetDescriptions, OcedPg, Query\n",
    "\n",
    "from IPython.core.interactiveshell import InteractiveShell\n",
    "\n",
    "InteractiveShell.ast_node_interactivity = \"all\"\n",
    "\n",
    "import pandas as pd\n",
    "\n",
    "pd.set_option('display.width', 2000)"
   ],
   "outputs": [],
   "execution_count": 29
  },
  {
   "metadata": {},
   "cell_type": "markdown",
   "source": "### Define the project that you want to do analysis on",
   "id": "60bbea6adcf9b221"
  },
  {
   "metadata": {
    "ExecuteTime": {
     "end_time": "2025-05-31T16:00:57.355407Z",
     "start_time": "2025-05-31T16:00:57.350946Z"
    }
   },
   "cell_type": "code",
   "source": [
    "case_study = 'bpic14'\n",
    "# case_study = 'bpic17'\n",
    "use_sample = False"
   ],
   "id": "5b69409fb8e9f16c",
   "outputs": [],
   "execution_count": 30
  },
  {
   "metadata": {
    "ExecuteTime": {
     "end_time": "2025-05-31T16:00:57.366094Z",
     "start_time": "2025-05-31T16:00:57.356450Z"
    }
   },
   "cell_type": "code",
   "source": [
    "# retrieve configuration for case_study\n",
    "conf_path = Path(case_study, 'config.yaml')\n",
    "config = yaml.safe_load(open(conf_path))\n",
    "\n",
    "print(f\"These are the credentials that I expect to be set for the database.\")\n",
    "print(f\"db_name: {config[\"db_name\"]}\")\n",
    "print(f\"user: {config[\"user\"]}\")\n",
    "print(f\"uri: {config[\"uri\"]}\")\n",
    "print(f\"password: {config[\"password\"]}\")\n",
    "print(\"----------------------\")\n",
    "print(f\"If you have other credentials, please change them at: {conf_path}\")"
   ],
   "id": "aea55eda3669ca1b",
   "outputs": [
    {
     "name": "stdout",
     "output_type": "stream",
     "text": [
      "These are the credentials that I expect to be set for the database.\n",
      "db_name: neo4j\n",
      "user: neo4j\n",
      "uri: bolt://localhost:7687\n",
      "password: bpic2014\n",
      "----------------------\n",
      "If you have other credentials, please change them at: bpic14\\config.yaml\n"
     ]
    }
   ],
   "execution_count": 31
  },
  {
   "metadata": {},
   "cell_type": "markdown",
   "source": "### Prepare so we can use PromG to execute queries",
   "id": "91271ac9282f6ba3"
  },
  {
   "metadata": {
    "ExecuteTime": {
     "end_time": "2025-05-31T16:00:57.374340Z",
     "start_time": "2025-05-31T16:00:57.367664Z"
    }
   },
   "cell_type": "code",
   "source": [
    "config = Configuration.init_conf_with_config_file(conf_path)\n",
    "db_connection = DatabaseConnection.set_up_connection(config=config)"
   ],
   "id": "556bb996b0ec505",
   "outputs": [],
   "execution_count": 32
  },
  {
   "metadata": {},
   "cell_type": "markdown",
   "source": [
    "# Start Analysis\n",
    "Make sure the data imported using import_data.ipynb ensured it is in the schema as defined in the paper.\n",
    "This analysis build further on the procedd_discovery"
   ],
   "id": "501932b3b139b4b7"
  },
  {
   "metadata": {
    "ExecuteTime": {
     "end_time": "2025-05-31T16:01:09.561024Z",
     "start_time": "2025-05-31T16:00:57.375853Z"
    }
   },
   "cell_type": "code",
   "source": [
    "# determine time duration between two events\n",
    "materialize_time = '''\n",
    "CALL apoc.periodic.iterate('\n",
    "    MATCH (e1:Event) - [df:DF] -> (e2:Event)\n",
    "    RETURN df, duration.between(e1.timestamp, e2.timestamp) AS d',\n",
    "    'SET df.duration = d',\n",
    "    {batchSize:$batch_size, parallel: true})\n",
    "'''\n",
    "\n",
    "db_connection.exec_query(materialize_time)"
   ],
   "id": "6324bcd25c4efb0c",
   "outputs": [
    {
     "data": {
      "text/plain": [
       "[{'batches': 243,\n",
       "  'total': 2424541,\n",
       "  'timeTaken': 10,\n",
       "  'committedOperations': 2424541,\n",
       "  'failedOperations': 0,\n",
       "  'failedBatches': 0,\n",
       "  'retries': 0,\n",
       "  'errorMessages': {},\n",
       "  'batch': {'total': 243, 'errors': {}, 'committed': 243, 'failed': 0},\n",
       "  'operations': {'total': 2424541,\n",
       "   'errors': {},\n",
       "   'committed': 2424541,\n",
       "   'failed': 0},\n",
       "  'wasTerminated': False,\n",
       "  'failedParams': {},\n",
       "  'updateStatistics': {'relationshipsDeleted': 0,\n",
       "   'relationshipsCreated': 0,\n",
       "   'nodesDeleted': 0,\n",
       "   'nodesCreated': 0,\n",
       "   'labelsRemoved': 0,\n",
       "   'labelsAdded': 0,\n",
       "   'propertiesSet': 2424541}}]"
      ]
     },
     "execution_count": 33,
     "metadata": {},
     "output_type": "execute_result"
    }
   ],
   "execution_count": 33
  },
  {
   "metadata": {
    "ExecuteTime": {
     "end_time": "2025-05-31T16:01:44.535695Z",
     "start_time": "2025-05-31T16:01:09.562031Z"
    }
   },
   "cell_type": "code",
   "source": [
    "# Add performance measures to DFG on eventType level\n",
    "\n",
    "# Query to derive a Multi-Entity DF-Graph by aggregating instance-level DF relationships at the event type level.\n",
    "df_performance_str = '''\\\n",
    "    CALL apoc.periodic.iterate('\n",
    "        // find all consecutive event types for specific object types\n",
    "        MATCH (e1:Event) - [e2e:DF] -> (e2:Event)\n",
    "        MATCH (e1) - [:INSTANCE_OF] -> (et1:EventType)\n",
    "        MATCH (e2) - [:INSTANCE_OF] -> (et2:EventType)\n",
    "        MATCH (et1) - [e2e_type:DF {objectType: e2e.objectType}] -> (et2)\n",
    "        WITH e2e_type, // count for each oType, how often we have observed DF between events that are an instance of et1 and et2\n",
    "            avg(e2e.duration) as avg_duration, min(e2e.duration) as min_duration, max(e2e.duration) as max_duration \n",
    "        RETURN avg_duration, min_duration, max_duration, e2e_type\n",
    "    ','\n",
    "    SET e2e_type = {duration_avg: avg_duration, duration_min: min_duration, duration_max: max_duration}\n",
    "    ', \n",
    "    {batchSize:$batch_size, parallel: true})\n",
    "'''\n",
    "\n",
    "results = db_connection.exec_query(df_performance_str)\n",
    "print(tabulate(results))\n"
   ],
   "id": "5cc20df44a0a86f5",
   "outputs": [
    {
     "name": "stdout",
     "output_type": "stream",
     "text": [
      "--  ------  --  ------  -  -  -  --  ---------------------------------------------------------  -----------------------------------------------------------------  -----  --  -----------------------------------------------------------------------------------------------------------------------------------------------------------\n",
      "13  122067  34  122067  0  0  0  {}  {'total': 13, 'errors': {}, 'committed': 13, 'failed': 0}  {'total': 122067, 'errors': {}, 'committed': 122067, 'failed': 0}  False  {}  {'relationshipsDeleted': 0, 'relationshipsCreated': 0, 'nodesDeleted': 0, 'nodesCreated': 0, 'labelsRemoved': 0, 'labelsAdded': 0, 'propertiesSet': 610335}\n",
      "--  ------  --  ------  -  -  -  --  ---------------------------------------------------------  -----------------------------------------------------------------  -----  --  -----------------------------------------------------------------------------------------------------------------------------------------------------------\n"
     ]
    }
   ],
   "execution_count": 34
  },
  {
   "metadata": {
    "ExecuteTime": {
     "end_time": "2025-05-31T16:01:56.572144Z",
     "start_time": "2025-05-31T16:01:44.536704Z"
    }
   },
   "cell_type": "code",
   "source": [
    "# Sojourn time for an event and the responsible delaying object\n",
    "sojourn_time = '''\n",
    "    MATCH (:Event) -[df:DF]-> (e:Event) -[]-> (o) - [:INSTANCE_OF] -> (ot:ObjectType {objectType: df.objectType})\n",
    "    MATCH (e) - [:INSTANCE_OF] -> (et:EventType WHERE et.agg is null)    \n",
    "    WITH et, df, e, collect(o.id) AS objects ORDER BY df.duration ASC\n",
    "    WITH et, e, objects, collect(df)[0] AS delayingDF\n",
    "    RETURN e.id, et.eventType AS eventType, objects, delayingDF.id AS delayingObject, delayingDF.duration AS sojournTime ORDER BY sojournTime DESC LIMIT 10\n",
    "'''\n",
    "\n",
    "results = db_connection.exec_query(sojourn_time)\n",
    "print(tabulate(results))"
   ],
   "id": "c19673d0160d7276",
   "outputs": [
    {
     "name": "stdout",
     "output_type": "stream",
     "text": [
      "----------------------  -------------  -------------  ---------  ----------------\n",
      "14729_Detail_Change_re  Requested End  ['C00008503']  C00008503  P13Y\n",
      "16966_Detail_Change_re  Requested End  ['C00009941']  C00009941  P9Y11M27DT14H18M\n",
      "17120_Detail_Change_re  Requested End  ['C00010031']  C00010031  P9Y11M26DT13H48M\n",
      "29494_Detail_Change_re  Requested End  ['C00017968']  C00017968  P8Y2M5DT3H29M\n",
      "29624_Detail_Change_re  Requested End  ['C00018098']  C00018098  P8Y2M5DT2H30M\n",
      "29456_Detail_Change_re  Requested End  ['C00017930']  C00017930  P7Y7M16DT14H9M\n",
      "29457_Detail_Change_re  Requested End  ['C00017931']  C00017931  P7Y7M16DT14H9M\n",
      "29489_Detail_Change_re  Requested End  ['C00017963']  C00017963  P7Y7M16DT14H8M\n",
      "29551_Detail_Change_re  Requested End  ['C00018025']  C00018025  P7Y7M16DT14H7M\n",
      "29586_Detail_Change_re  Requested End  ['C00018060']  C00018060  P7Y7M16DT14H6M\n",
      "----------------------  -------------  -------------  ---------  ----------------\n"
     ]
    }
   ],
   "execution_count": 35
  },
  {
   "metadata": {
    "ExecuteTime": {
     "end_time": "2025-05-31T16:02:08.332839Z",
     "start_time": "2025-05-31T16:01:56.575373Z"
    }
   },
   "cell_type": "code",
   "source": [
    "#Flow time for an event and the responsible enabling object\n",
    "flow_time = '''\n",
    "    MATCH (:Event) -[df:DF]-> (e:Event) -[]-> (o) - [:INSTANCE_OF] -> (ot:ObjectType {objectType: df.objectType})\n",
    "    MATCH (e) - [:INSTANCE_OF] -> (et:EventType WHERE et.agg is null)\n",
    "    WITH et, df, e, collect(o.id) AS objects ORDER BY df.duration DESC\n",
    "    WITH et, e, objects, collect(df)[0] AS enablingDF\n",
    "    MATCH (e2:Event)-[enablingDF]->(e)\n",
    "    RETURN e.id, et.eventType AS eventType, objects, enablingDF.id AS delayingObject, enablingDF.duration AS flowTime ORDER BY flowTime DESC LIMIT 10\n",
    "'''\n",
    "\n",
    "results = db_connection.exec_query(flow_time)\n",
    "print(tabulate(results))"
   ],
   "id": "1fa8fc8eb1c52bcb",
   "outputs": [
    {
     "name": "stdout",
     "output_type": "stream",
     "text": [
      "----------------------  -------------  -------------  ---------  ----------------\n",
      "14729_Detail_Change_re  Requested End  ['C00008503']  C00008503  P13Y\n",
      "16966_Detail_Change_re  Requested End  ['C00009941']  C00009941  P9Y11M27DT14H18M\n",
      "17120_Detail_Change_re  Requested End  ['C00010031']  C00010031  P9Y11M26DT13H48M\n",
      "29494_Detail_Change_re  Requested End  ['C00017968']  C00017968  P8Y2M5DT3H29M\n",
      "29624_Detail_Change_re  Requested End  ['C00018098']  C00018098  P8Y2M5DT2H30M\n",
      "29457_Detail_Change_re  Requested End  ['C00017931']  C00017931  P7Y7M16DT14H9M\n",
      "29456_Detail_Change_re  Requested End  ['C00017930']  C00017930  P7Y7M16DT14H9M\n",
      "29489_Detail_Change_re  Requested End  ['C00017963']  C00017963  P7Y7M16DT14H8M\n",
      "29551_Detail_Change_re  Requested End  ['C00018025']  C00018025  P7Y7M16DT14H7M\n",
      "29586_Detail_Change_re  Requested End  ['C00018060']  C00018060  P7Y7M16DT14H6M\n",
      "----------------------  -------------  -------------  ---------  ----------------\n"
     ]
    }
   ],
   "execution_count": 36
  },
  {
   "metadata": {
    "ExecuteTime": {
     "end_time": "2025-05-31T16:02:22.496020Z",
     "start_time": "2025-05-31T16:02:08.333844Z"
    }
   },
   "cell_type": "code",
   "source": [
    "# Synchronization time = time between first and last preceding event (difference between soujournTime and flowTime)\n",
    "sync_time = '''\n",
    "    MATCH (:Event) -[df:DF]-> (e:Event) -[]-> (o) - [:INSTANCE_OF] -> (ot:ObjectType {objectType: df.objectType})\n",
    "    MATCH (e) - [:INSTANCE_OF] -> (et:EventType WHERE et.agg is null)\n",
    "    WITH et, df, e, collect(o.id) AS objects ORDER BY df.duration DESC\n",
    "    WITH et, objects, e, collect(df) AS incomingDF\n",
    "    WITH et, objects, e, incomingDF[0] as enablingDF, incomingDF[-1] as delayingDF\n",
    "    MATCH (e2_enabling:Event)-[enablingDF]->(e)\n",
    "    MATCH (e2_delaying:Event)-[delayingDF]->(e)\n",
    "    RETURN e.id, et.eventType as eventType, objects, enablingDF.id as first, delayingDF.id as last, enablingDF.duration - delayingDF.duration AS synchronizationTime ORDER BY synchronizationTime DESC LIMIT 10\n",
    "'''\n",
    "\n",
    "results = db_connection.exec_query(sync_time)\n",
    "print(tabulate(results))"
   ],
   "id": "e748266ff89ab77f",
   "outputs": [
    {
     "name": "stdout",
     "output_type": "stream",
     "text": [
      "-------------------------  ----------------  --------------------------  ---------  ---------  ----------\n",
      "229_BPIC14Interaction_ior  Open Interaction  ['SD0000233', 'SD0000233']  SD0000233  SD0000233  PT1H58M22S\n",
      "298_BPIC14Interaction_ior  Open Interaction  ['SD0000303', 'SD0000303']  SD0000303  SD0000303  PT1H57M47S\n",
      "123_BPIC14Interaction_ior  Open Interaction  ['SD0000125', 'SD0000125']  SD0000125  SD0000125  PT1H57M35S\n",
      "173_BPIC14Interaction_ior  Open Interaction  ['SD0000177', 'SD0000177']  SD0000177  SD0000177  PT1H57M17S\n",
      "249_BPIC14Interaction_ior  Open Interaction  ['SD0000254', 'SD0000254']  SD0000254  SD0000254  PT1H56M55S\n",
      "148_BPIC14Interaction_ior  Open Interaction  ['SD0000151', 'SD0000151']  SD0000151  SD0000151  PT1H56M54S\n",
      "264_BPIC14Interaction_ior  Open Interaction  ['SD0000269', 'SD0000269']  SD0000269  SD0000269  PT1H56M48S\n",
      "228_BPIC14Interaction_ior  Open Interaction  ['SD0000232', 'SD0000232']  SD0000232  SD0000232  PT1H56M31S\n",
      "251_BPIC14Interaction_ior  Open Interaction  ['SD0000256', 'SD0000256']  SD0000256  SD0000256  PT1H56M30S\n",
      "336_BPIC14Interaction_ior  Open Interaction  ['SD0000341', 'SD0000341']  SD0000341  SD0000341  PT1H56M24S\n",
      "-------------------------  ----------------  --------------------------  ---------  ---------  ----------\n"
     ]
    }
   ],
   "execution_count": 37
  },
  {
   "metadata": {
    "ExecuteTime": {
     "end_time": "2025-05-31T16:02:22.499269Z",
     "start_time": "2025-05-31T16:02:22.497033Z"
    }
   },
   "cell_type": "code",
   "source": "",
   "id": "1cdb8b650ae01c33",
   "outputs": [],
   "execution_count": 37
  }
 ],
 "metadata": {
  "kernelspec": {
   "display_name": "Python 3",
   "language": "python",
   "name": "python3"
  },
  "language_info": {
   "codemirror_mode": {
    "name": "ipython",
    "version": 2
   },
   "file_extension": ".py",
   "mimetype": "text/x-python",
   "name": "python",
   "nbconvert_exporter": "python",
   "pygments_lexer": "ipython2",
   "version": "2.7.6"
  }
 },
 "nbformat": 4,
 "nbformat_minor": 5
}
