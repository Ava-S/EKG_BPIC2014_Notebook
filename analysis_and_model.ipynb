{
 "cells": [
  {
   "cell_type": "code",
   "id": "initial_id",
   "metadata": {
    "collapsed": true,
    "ExecuteTime": {
     "end_time": "2025-05-31T15:31:07.775838Z",
     "start_time": "2025-05-31T15:31:07.770283Z"
    }
   },
   "source": [
    "%matplotlib inline\n",
    "import matplotlib.pyplot as plt\n",
    "\n",
    "from pathlib import Path\n",
    "\n",
    "from promg.modules.db_management import DBManagement\n",
    "from tabulate import tabulate\n",
    "import yaml\n",
    "\n",
    "from promg import Configuration, DatabaseConnection, Performance, SemanticHeader, DatasetDescriptions, OcedPg, Query\n",
    "\n",
    "from IPython.core.interactiveshell import InteractiveShell\n",
    "\n",
    "InteractiveShell.ast_node_interactivity = \"all\"\n",
    "\n",
    "import pandas as pd\n",
    "\n",
    "pd.set_option('display.width', 2000)"
   ],
   "outputs": [],
   "execution_count": 16
  },
  {
   "metadata": {},
   "cell_type": "markdown",
   "source": [
    "### Define the project that you want to do analysis on"
   ],
   "id": "53749a6e25cc2172"
  },
  {
   "metadata": {
    "ExecuteTime": {
     "end_time": "2025-05-31T15:31:07.850044Z",
     "start_time": "2025-05-31T15:31:07.846181Z"
    }
   },
   "cell_type": "code",
   "source": [
    "# case_study = 'bpic14'\n",
    "case_study = 'bpic14'\n",
    "use_sample = False"
   ],
   "id": "fc9da47c43b8414d",
   "outputs": [],
   "execution_count": 17
  },
  {
   "metadata": {
    "ExecuteTime": {
     "end_time": "2025-05-31T15:31:07.890809Z",
     "start_time": "2025-05-31T15:31:07.857533Z"
    }
   },
   "cell_type": "code",
   "source": [
    "# retrieve configuration for case_study\n",
    "conf_path = Path(case_study, 'config.yaml')\n",
    "config = yaml.safe_load(open(conf_path))\n",
    "\n",
    "print(f\"These are the credentials that I expect to be set for the database.\")\n",
    "print(f\"db_name: {config['db_name']}\")\n",
    "print(f\"uri: {config['uri']}\")\n",
    "print(f\"password: {config['password']}\")\n",
    "print(\"----------------------\")\n",
    "print(f\"If you have other credentials, please change them at: {conf_path}\")"
   ],
   "id": "aa3387e167d67135",
   "outputs": [
    {
     "name": "stdout",
     "output_type": "stream",
     "text": [
      "These are the credentials that I expect to be set for the database.\n",
      "db_name: neo4j\n",
      "uri: bolt://localhost:7687\n",
      "password: bpic2014\n",
      "----------------------\n",
      "If you have other credentials, please change them at: bpic14\\config.yaml\n"
     ]
    }
   ],
   "execution_count": 18
  },
  {
   "metadata": {},
   "cell_type": "markdown",
   "source": [
    "### Prepare so we can use PromG to load the data and execute queries"
   ],
   "id": "e8120ab6c716ab32"
  },
  {
   "metadata": {
    "ExecuteTime": {
     "end_time": "2025-05-31T15:31:07.928929Z",
     "start_time": "2025-05-31T15:31:07.891821Z"
    }
   },
   "cell_type": "code",
   "source": [
    "config = Configuration.init_conf_with_config_file(conf_path)\n",
    "db_connection = DatabaseConnection.set_up_connection(config=config)\n",
    "perf = Performance.set_up_performance(config=config)\n",
    "dataset_descriptions = DatasetDescriptions(config=config)"
   ],
   "id": "6a43b12f667191c7",
   "outputs": [],
   "execution_count": 19
  },
  {
   "metadata": {
    "ExecuteTime": {
     "end_time": "2025-05-31T15:31:07.938810Z",
     "start_time": "2025-05-31T15:31:07.930937Z"
    }
   },
   "cell_type": "code",
   "source": [
    "def reset_pbar(pbar=perf.pbar, total=None):\n",
    "    # clear db\n",
    "    pbar.reset()\n",
    "    # TODO update dragons in PromG, #update method to set total for pbar\n",
    "    pbar.total = total\n",
    "    pbar.set_postfix_str()"
   ],
   "id": "401c224950fa68e",
   "outputs": [],
   "execution_count": 20
  },
  {
   "metadata": {},
   "cell_type": "markdown",
   "source": [
    "#### Prepare the DB"
   ],
   "id": "6bb7df7ad87d2580"
  },
  {
   "metadata": {
    "ExecuteTime": {
     "end_time": "2025-05-31T15:31:07.971536Z",
     "start_time": "2025-05-31T15:31:07.941816Z"
    }
   },
   "cell_type": "code",
   "source": [
    "# read the semantic header --> this details how the data should be structured\n",
    "semantic_header = SemanticHeader.create_semantic_header(config=config)"
   ],
   "id": "62c8f00ce4cfd71a",
   "outputs": [],
   "execution_count": 21
  },
  {
   "metadata": {
    "ExecuteTime": {
     "end_time": "2025-05-31T15:31:13.429768Z",
     "start_time": "2025-05-31T15:31:07.972546Z"
    }
   },
   "cell_type": "code",
   "source": [
    "# Clear the DB (if use_sample = False, this should not take long on a loaded database)\n",
    "db_manager = DBManagement(db_connection=db_connection, semantic_header=None)\n",
    "db_manager.clear_db(replace=True);  # in the community version of neo4j, replace is not allowed. In that case, set replace=False"
   ],
   "id": "60b3495572a9748b",
   "outputs": [
    {
     "name": "stdout",
     "output_type": "stream",
     "text": [
      "13it [05:07, 56.73s/it, clear_db: took 277.57 seconds]                                                "
     ]
    }
   ],
   "execution_count": 22
  },
  {
   "metadata": {
    "ExecuteTime": {
     "end_time": "2025-05-31T15:31:14.172826Z",
     "start_time": "2025-05-31T15:31:13.430786Z"
    }
   },
   "cell_type": "code",
   "source": [
    "# Set constraints in DB\n",
    "db_manager.set_constraints();"
   ],
   "id": "ba4c8c205f2085dd",
   "outputs": [
    {
     "name": "stdout",
     "output_type": "stream",
     "text": [
      "14it [05:07, 44.26s/it, set_constraints: took 0.19 seconds]"
     ]
    }
   ],
   "execution_count": 23
  },
  {
   "metadata": {
    "ExecuteTime": {
     "end_time": "2025-05-31T15:31:14.228374Z",
     "start_time": "2025-05-31T15:31:14.173832Z"
    }
   },
   "cell_type": "code",
   "source": [
    "db_manager.get_constraints(ignore_defaults=True)"
   ],
   "id": "ad8f6f7f8636ca0",
   "outputs": [
    {
     "data": {
      "text/plain": "['activity_index',\n 'entity_sys_id_index',\n 'record_id_range',\n 'record_type_range',\n 'unique_entity_ids']"
     },
     "execution_count": 24,
     "metadata": {},
     "output_type": "execute_result"
    }
   ],
   "execution_count": 24
  },
  {
   "metadata": {},
   "cell_type": "markdown",
   "source": [
    "# For BPIC17 (as it is a large dataset), we test with sample whether data can be imported"
   ],
   "id": "38d1f9e2bc502dc3"
  },
  {
   "metadata": {},
   "cell_type": "markdown",
   "source": [
    "### Load the data"
   ],
   "id": "fc848247a6c26bb8"
  },
  {
   "metadata": {
    "ExecuteTime": {
     "end_time": "2025-05-31T15:31:14.254380Z",
     "start_time": "2025-05-31T15:31:14.248245Z"
    }
   },
   "cell_type": "code",
   "source": [
    "use_sample = False\n",
    "oced_pg = OcedPg(database_connection=db_connection,\n",
    "                 dataset_descriptions=dataset_descriptions,\n",
    "                 semantic_header=semantic_header,\n",
    "                 use_sample=use_sample)\n"
   ],
   "id": "a1acd711cd96c81e",
   "outputs": [],
   "execution_count": 25
  },
  {
   "metadata": {
    "ExecuteTime": {
     "end_time": "2025-05-31T15:33:02.314408Z",
     "start_time": "2025-05-31T15:31:14.255399Z"
    }
   },
   "cell_type": "code",
   "source": [
    "# first, we load all records\n",
    "# (if use_sample = False, this should take less than 2 minutes)\n",
    "reset_pbar(total=11)\n",
    "oced_pg.load()"
   ],
   "id": "b8e06ac67a409334",
   "outputs": [
    {
     "name": "stdout",
     "output_type": "stream",
     "text": [
      " 92%|█████████▏| 11/12 [00:29<00:02,  2.80s/it, _filter_nodes for BPIC14Interaction: took 0.0 seconds]                      "
     ]
    }
   ],
   "execution_count": 26
  },
  {
   "cell_type": "code",
   "execution_count": 27,
   "outputs": [],
   "source": [
    "# Check whether import and transformation was successful by checking whether all nodes were imported\n",
    "check_nodes = '''\n",
    "    MATCH (n)\n",
    "    RETURN labels(n) as label, count(n) as count'''\n",
    "\n",
    "check_relations = '''\n",
    "    MATCH () - [r] -> ()\n",
    "    RETURN type(r) as label, count(r) as count'''"
   ],
   "metadata": {
    "collapsed": false
   }
  },
  {
   "cell_type": "code",
   "execution_count": 28,
   "outputs": [
    {
     "name": "stdout",
     "output_type": "stream",
     "text": [
      "In total, there are 690626 nodes and 690622 relations.\n",
      "In total (excluding record layer), there are 0 nodes and 0 relations.\n"
     ]
    }
   ],
   "source": [
    "# Check whether import and transformation was successful by checking whether all nodes were imported\n",
    "node_count = db_connection.exec_query(check_nodes)\n",
    "rel_count = db_connection.exec_query(check_relations)\n",
    "print(\n",
    "    f\"In total, there are {sum([node['count'] for node in node_count])} nodes and {sum([rel['count'] for rel in rel_count])} relations.\")\n",
    "\n",
    "# we report on nodes and relationships excluding the record layer as these are not part of our schema\n",
    "print(\n",
    "    f\"In total (excluding record layer), there are {sum([node['count'] for node in node_count if not node['label'] in [['Record'], ['RecordType'], ['Log']]])} nodes \"\n",
    "    f\"and {sum([rel['count'] for rel in rel_count if not rel['label'] in ['IS_OF_TYPE', 'CONTAINS', 'EXTRACTED_FROM']])} relations.\")\n"
   ],
   "metadata": {
    "collapsed": false
   }
  },
  {
   "metadata": {
    "ExecuteTime": {
     "end_time": "2025-05-31T15:37:16.747320Z",
     "start_time": "2025-05-31T15:37:16.741580Z"
    }
   },
   "cell_type": "code",
   "source": [
    "# Print node statistics\n",
    "print(\"Nodes\")\n",
    "print(tabulate(node_count))"
   ],
   "id": "cec797532cd4f49a",
   "outputs": [
    {
     "name": "stdout",
     "output_type": "stream",
     "text": [
      "Nodes\n",
      "----------  ------\n",
      "['Log']          4\n",
      "['Record']  690622\n",
      "----------  ------\n"
     ]
    }
   ],
   "execution_count": 29
  },
  {
   "metadata": {
    "ExecuteTime": {
     "end_time": "2025-05-31T15:37:16.753589Z",
     "start_time": "2025-05-31T15:37:16.749327Z"
    }
   },
   "cell_type": "code",
   "source": [
    "# Print relationship statistics\n",
    "print(\"Relationships\")\n",
    "print(tabulate(rel_count))"
   ],
   "id": "9aa3aee88f2e20de",
   "outputs": [
    {
     "name": "stdout",
     "output_type": "stream",
     "text": [
      "Relationships\n",
      "--------  ------\n",
      "CONTAINS  690622\n",
      "--------  ------\n"
     ]
    }
   ],
   "execution_count": 30
  }
 ],
 "metadata": {
  "kernelspec": {
   "display_name": "Python 3",
   "language": "python",
   "name": "python3"
  },
  "language_info": {
   "codemirror_mode": {
    "name": "ipython",
    "version": 2
   },
   "file_extension": ".py",
   "mimetype": "text/x-python",
   "name": "python",
   "nbconvert_exporter": "python",
   "pygments_lexer": "ipython2",
   "version": "2.7.6"
  }
 },
 "nbformat": 4,
 "nbformat_minor": 5
}
