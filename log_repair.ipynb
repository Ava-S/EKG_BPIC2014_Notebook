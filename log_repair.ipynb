{
 "cells": [
  {
   "cell_type": "code",
   "execution_count": null,
   "id": "initial_id",
   "metadata": {
    "collapsed": true
   },
   "outputs": [],
   "source": [
    "log_repair_query = '''\n",
    "     MATCH (e1:Event) - [e2e:DF] -> (e2:Event) - [] -> (o) - [:INSTANCE_OF] -> (ot:ObjectType {objectType: e2e.objectType})\n",
    "        MATCH (e1) - [:INSTANCE_OF] -> (et1:EventType)\n",
    "        MATCH (e2) - [:INSTANCE_OF] -> (et2:EventType)\n",
    "        MATCH p = (et1) - [:DF* {objectType: e2e.objectType}] -> (et2) // find all ets inbetween e1 ad=nd e2\n",
    "        WITH o, ot, e1, e2, e2e,  nodes(p) as inbetween_ets\n",
    "        WHERE size(inbetween_ets) > 0 // check there are more than 0 instances of ets\n",
    "        UNWIND RANGE(1, size(inbetween_ets) - 2) AS i // unwind and for each et, infer missing event\n",
    "        WITH o, ot,  e1, e2, i, e2e, inbetween_ets[i] as missing_et\n",
    "        MATCH (missing_et) - [e2o_type] -> (ot)\n",
    "        MERGE (new_e:Event {id:\"merged\"+e1.id, timestamp: e1.timestamp}) - [:INSTANCE_OF] -> (missing_et)\n",
    "        WITH e2e, new_e, e2o_type, e1, e2, o\n",
    "        CALL apoc.merge.relationship(new_e, type(e2o_type),{},{},o,{})\n",
    "        YIELD rel as e2o_rel\n",
    "        WITH e2e, e1, e2, collect(new_e) as new_events // now we also have to update DFs\n",
    "        WITH e2e, e1, e2, new_events, new_events[0] as first_new, new_events[-1] AS last_new\n",
    "        DELETE e2e\n",
    "        MERGE (e1) - [:DF {objectType: e2e.objectType, id:e2e.id}] -> (first_new) // attach e1 to first new event\n",
    "        MERGE (last_new) - [:DF {objectType: e2e.objectType, id:e2e.id}] -> (e2) //attach e2 to last new event\n",
    "        WITH new_events, e2e\n",
    "        UNWIND RANGE(0, size(new_events) - 2) AS i\n",
    "        WITH e2e, new_events[i] as first, new_events[i+1] as second\n",
    "        MERGE (first) - [:DF {objectType: e2e.objectType, id:e2e.id}] -> (second) // add dfs inbetween\n",
    "RETURN null\n",
    "'''"
   ]
  }
 ],
 "metadata": {
  "kernelspec": {
   "display_name": "Python 3",
   "language": "python",
   "name": "python3"
  },
  "language_info": {
   "codemirror_mode": {
    "name": "ipython",
    "version": 2
   },
   "file_extension": ".py",
   "mimetype": "text/x-python",
   "name": "python",
   "nbconvert_exporter": "python",
   "pygments_lexer": "ipython2",
   "version": "2.7.6"
  }
 },
 "nbformat": 4,
 "nbformat_minor": 5
}
